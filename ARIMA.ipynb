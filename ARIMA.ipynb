{
  "nbformat": 4,
  "nbformat_minor": 0,
  "metadata": {
    "colab": {
      "name": "Untitled3.ipynb",
      "version": "0.3.2",
      "provenance": [],
      "include_colab_link": true
    },
    "kernelspec": {
      "name": "python3",
      "display_name": "Python 3"
    }
  },
  "cells": [
    {
      "cell_type": "markdown",
      "metadata": {
        "id": "view-in-github",
        "colab_type": "text"
      },
      "source": [
        "<a href=\"https://colab.research.google.com/github/vjeevankumar/arima-model-statsmodels-python/blob/ARIMA_dev/ARIMA.ipynb\" target=\"_parent\"><img src=\"https://colab.research.google.com/assets/colab-badge.svg\" alt=\"Open In Colab\"/></a>"
      ]
    },
    {
      "cell_type": "code",
      "metadata": {
        "id": "B9NC9NRgZ5Ou",
        "colab_type": "code",
        "colab": {}
      },
      "source": [
        "# Import Libraries\n",
        "import csv\n",
        "import math\n",
        "import matplotlib.mlab as mlab\n",
        "import matplotlib.pyplot as plt\n",
        "import numpy as np\n",
        "import os\n",
        "import pandas as pd\n",
        "import psycopg2\n",
        "import pyramid\n",
        "import random\n",
        "import seaborn as sns\n",
        "import statsmodels.tsa.stattools as ts\n",
        "from pyramid.arima import auto_arima\n",
        "from statsmodels.tsa.stattools import acf, pacf\n",
        "from statsmodels.tsa.arima_model import ARIMA\n",
        "from statsmodels.tsa.seasonal import seasonal_decompose\n",
        "\n",
        "import os;\n",
        "path=\"directory\"\n",
        "os.chdir(path)\n",
        "os.getcwd()\n",
        "\n",
        "from pandas import Series\n",
        "from matplotlib import pyplot\n",
        "series = Series.from_csv('mly532.csv', header=0)\n",
        "series = np.log(series)\n",
        "series.plot()\n",
        "plt.xlabel('Year')\n",
        "plt.ylabel('Maximum Temperature')\n",
        "plt.title('Maximum Air Temperature in Dublin, Ireland')\n",
        "pyplot.show()\n",
        "\n",
        "import statsmodels.api as sm  \n",
        "from statsmodels.tsa.stattools import acf  \n",
        "from statsmodels.tsa.stattools import pacf\n",
        "from statsmodels.tsa.seasonal import seasonal_decompose\n",
        "\n",
        "train, test = series[1:741], series[742:927]\n",
        "train.shape\n",
        "test.shape\n",
        "plt.plot(train)\n",
        "plt.plot(test)\n",
        "plt.title(\"Training and Test Data\")\n",
        "plt.show()\n",
        "\n",
        "model=sm.tsa.statespace.SARIMAX(endog=train,order=(1,0,0),seasonal_order=(2,1,0,12),trend='c',enforce_invertibility=False)\n",
        "results=model.fit()\n",
        "print(results.summary())\n",
        "\n",
        "predictions=results.predict(741, 925, typ='levels')\n",
        "predictions=np.exp(predictions)\n",
        "test=np.exp(test)\n",
        "mse=(predictions-test)/test\n",
        "mse=abs(mse)\n",
        "below10=mse[mse < 0.10].count()\n",
        "plt.hist(below10)\n",
        "plt.show()\n",
        "\n",
        "all=mse.count()\n",
        "accuracy=below10/all\n"
      ],
      "execution_count": 0,
      "outputs": []
    }
  ]
}